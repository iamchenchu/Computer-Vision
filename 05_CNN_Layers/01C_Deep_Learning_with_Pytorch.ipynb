{
 "cells": [
  {
   "cell_type": "markdown",
   "id": "4524b98d-1a09-483e-8079-184885afb75c",
   "metadata": {},
   "source": [
    "## Deep Learning with Python\n",
    "\n",
    "Let's put all the pieces together: Python, NumPy/pandas/Matplotlib, Linear Algebra and Neural Networks, and learn PyTorch. PyTorch is an open source library for Python easily used to train neural networks.\n",
    "\n"
   ]
  },
  {
   "cell_type": "code",
   "execution_count": 1,
   "id": "466037fb-801b-4896-9d18-0f20733720e2",
   "metadata": {},
   "outputs": [
    {
     "name": "stdout",
     "output_type": "stream",
     "text": [
      "Using dir():\n",
      "['T_destination', '__annotations__', '__call__', '__class__', '__delattr__', '__dict__', '__dir__', '__doc__', '__eq__', '__format__', '__ge__', '__getattr__', '__getattribute__', '__getstate__', '__gt__', '__hash__', '__init__', '__init_subclass__', '__le__', '__lt__', '__module__', '__ne__', '__new__', '__reduce__', '__reduce_ex__', '__repr__', '__setattr__', '__setstate__', '__sizeof__', '__str__', '__subclasshook__', '__weakref__', '_apply', '_call_impl', '_compiled_call_impl', '_get_backward_hooks', '_get_backward_pre_hooks', '_get_name', '_load_from_state_dict', '_maybe_warn_non_full_backward_hook', '_named_members', '_register_load_state_dict_pre_hook', '_register_state_dict_hook', '_replicate_for_data_parallel', '_save_to_state_dict', '_slow_forward', '_version', '_wrapped_call_impl', 'add_module', 'apply', 'bfloat16', 'buffers', 'call_super_init', 'children', 'compile', 'cpu', 'cuda', 'double', 'dump_patches', 'eval', 'extra_repr', 'float', 'forward', 'get_buffer', 'get_extra_state', 'get_parameter', 'get_submodule', 'half', 'ipu', 'load_state_dict', 'modules', 'named_buffers', 'named_children', 'named_modules', 'named_parameters', 'parameters', 'register_backward_hook', 'register_buffer', 'register_forward_hook', 'register_forward_pre_hook', 'register_full_backward_hook', 'register_full_backward_pre_hook', 'register_load_state_dict_post_hook', 'register_module', 'register_parameter', 'register_state_dict_pre_hook', 'requires_grad_', 'set_extra_state', 'share_memory', 'state_dict', 'to', 'to_empty', 'train', 'type', 'xpu', 'zero_grad']\n",
      "\n",
      "Using inspect.getmembers():\n",
      "__call__\n",
      "__delattr__\n",
      "__dir__\n",
      "__getattr__\n",
      "__getstate__\n",
      "__init__\n",
      "__repr__\n",
      "__setattr__\n",
      "__setstate__\n",
      "_apply\n",
      "_call_impl\n",
      "_get_backward_hooks\n",
      "_get_backward_pre_hooks\n",
      "_get_name\n",
      "_load_from_state_dict\n",
      "_maybe_warn_non_full_backward_hook\n",
      "_named_members\n",
      "_register_load_state_dict_pre_hook\n",
      "_register_state_dict_hook\n",
      "_replicate_for_data_parallel\n",
      "_save_to_state_dict\n",
      "_slow_forward\n",
      "_wrapped_call_impl\n",
      "add_module\n",
      "apply\n",
      "bfloat16\n",
      "buffers\n",
      "children\n",
      "compile\n",
      "cpu\n",
      "cuda\n",
      "double\n",
      "eval\n",
      "extra_repr\n",
      "float\n",
      "forward\n",
      "get_buffer\n",
      "get_extra_state\n",
      "get_parameter\n",
      "get_submodule\n",
      "half\n",
      "ipu\n",
      "load_state_dict\n",
      "modules\n",
      "named_buffers\n",
      "named_children\n",
      "named_modules\n",
      "named_parameters\n",
      "parameters\n",
      "register_backward_hook\n",
      "register_buffer\n",
      "register_forward_hook\n",
      "register_forward_pre_hook\n",
      "register_full_backward_hook\n",
      "register_full_backward_pre_hook\n",
      "register_load_state_dict_post_hook\n",
      "register_module\n",
      "register_parameter\n",
      "register_state_dict_pre_hook\n",
      "requires_grad_\n",
      "set_extra_state\n",
      "share_memory\n",
      "state_dict\n",
      "to\n",
      "to_empty\n",
      "train\n",
      "type\n",
      "xpu\n",
      "zero_grad\n",
      "\n",
      "Using help():\n"
     ]
    }
   ],
   "source": [
    "import torch.nn as nn\n",
    "import inspect\n",
    "\n",
    "# Using dir()\n",
    "print(\"Using dir():\")\n",
    "print(dir(nn.Module))\n",
    "\n",
    "# Using inspect.getmembers()\n",
    "print(\"\\nUsing inspect.getmembers():\")\n",
    "methods = inspect.getmembers(nn.Module, predicate=inspect.isfunction)\n",
    "for method in methods:\n",
    "    print(method[0])\n",
    "\n",
    "# Using help()\n",
    "print(\"\\nUsing help():\")\n",
    "\n"
   ]
  },
  {
   "cell_type": "markdown",
   "id": "44e899bc-7fa9-4009-b484-27e26f45e0c9",
   "metadata": {},
   "source": [
    "## Tensors \n",
    "\n",
    "The fundamental data structure of the pytorch is `Tensor`, Our neural networks are just the linear algebra computations on these tensors.\n",
    "\n",
    "- vector is a one dimensional tensor\n",
    "- a matrix is a 2 - dimensional tensor\n",
    "- an array with 3 indices is a 3 dimensional tensor (Example RGB images) "
   ]
  },
  {
   "cell_type": "code",
   "execution_count": 2,
   "id": "98095bd5-49b5-4642-bb03-91a39d4c57c8",
   "metadata": {},
   "outputs": [],
   "source": [
    "import numpy as np\n",
    "import torch "
   ]
  },
  {
   "cell_type": "code",
   "execution_count": 3,
   "id": "c1ebfc52-84bc-4686-8e9b-3d07fb780bdf",
   "metadata": {},
   "outputs": [
    {
     "data": {
      "text/plain": [
       "tensor([[0.7086, 0.3793],\n",
       "        [0.4785, 0.4835],\n",
       "        [0.5868, 0.5180]])"
      ]
     },
     "execution_count": 3,
     "metadata": {},
     "output_type": "execute_result"
    }
   ],
   "source": [
    "x = torch.rand(3, 2)\n",
    "x"
   ]
  },
  {
   "cell_type": "code",
   "execution_count": 4,
   "id": "fb9c4922-54e0-41a6-99ea-8d4f1b871474",
   "metadata": {},
   "outputs": [
    {
     "data": {
      "text/plain": [
       "torch.Size([3, 2])"
      ]
     },
     "execution_count": 4,
     "metadata": {},
     "output_type": "execute_result"
    }
   ],
   "source": [
    "x.size()"
   ]
  },
  {
   "cell_type": "code",
   "execution_count": 5,
   "id": "5f4eb397-56dc-4c54-ac37-41a3fbc19952",
   "metadata": {},
   "outputs": [
    {
     "data": {
      "text/plain": [
       "tensor([[1., 1.],\n",
       "        [1., 1.],\n",
       "        [1., 1.]])"
      ]
     },
     "execution_count": 5,
     "metadata": {},
     "output_type": "execute_result"
    }
   ],
   "source": [
    "y = torch.ones(x.size()) # it will calculate the size of x and pass it to the y\n",
    "y"
   ]
  },
  {
   "cell_type": "code",
   "execution_count": 6,
   "id": "31258121-1114-4a09-bdb1-c9dca2189115",
   "metadata": {},
   "outputs": [
    {
     "data": {
      "text/plain": [
       "tensor([[1.7086, 1.3793],\n",
       "        [1.4785, 1.4835],\n",
       "        [1.5868, 1.5180]])"
      ]
     },
     "execution_count": 6,
     "metadata": {},
     "output_type": "execute_result"
    }
   ],
   "source": [
    "z = x + y\n",
    "\n",
    "z"
   ]
  },
  {
   "cell_type": "code",
   "execution_count": 7,
   "id": "b1c224c4-3654-4cdf-882a-64d1a3fc714a",
   "metadata": {},
   "outputs": [
    {
     "data": {
      "text/plain": [
       "tensor([1.7086, 1.3793])"
      ]
     },
     "execution_count": 7,
     "metadata": {},
     "output_type": "execute_result"
    }
   ],
   "source": [
    "z[0] # Get the first row"
   ]
  },
  {
   "cell_type": "code",
   "execution_count": 8,
   "id": "34d68d22-3d67-4577-81d0-046ddbaf1c3b",
   "metadata": {},
   "outputs": [
    {
     "data": {
      "text/plain": [
       "tensor([[1.3793],\n",
       "        [1.4835],\n",
       "        [1.5180]])"
      ]
     },
     "execution_count": 8,
     "metadata": {},
     "output_type": "execute_result"
    }
   ],
   "source": [
    "z[:, 1:] # All the rows for the 2nd column "
   ]
  },
  {
   "cell_type": "code",
   "execution_count": 9,
   "id": "6211a8bc-2e74-47f8-adc1-00a12725f49b",
   "metadata": {},
   "outputs": [
    {
     "data": {
      "text/plain": [
       "tensor([[1.7086],\n",
       "        [1.4785],\n",
       "        [1.5868]])"
      ]
     },
     "execution_count": 9,
     "metadata": {},
     "output_type": "execute_result"
    }
   ],
   "source": [
    "z[:, :1] # All the rows for the 1st column "
   ]
  },
  {
   "cell_type": "code",
   "execution_count": 10,
   "id": "ae71608d-b851-464f-a8e2-c972d6eaf720",
   "metadata": {},
   "outputs": [
    {
     "data": {
      "text/plain": [
       "tensor([[2.7086, 2.3793],\n",
       "        [2.4785, 2.4835],\n",
       "        [2.5868, 2.5180]])"
      ]
     },
     "execution_count": 10,
     "metadata": {},
     "output_type": "execute_result"
    }
   ],
   "source": [
    "z.add(1) # It will change the z value temparaly means not inplace"
   ]
  },
  {
   "cell_type": "code",
   "execution_count": 11,
   "id": "e51b936c-bda5-4046-8e7d-f66e2e03a394",
   "metadata": {},
   "outputs": [
    {
     "data": {
      "text/plain": [
       "tensor([[1.7086, 1.3793],\n",
       "        [1.4785, 1.4835],\n",
       "        [1.5868, 1.5180]])"
      ]
     },
     "execution_count": 11,
     "metadata": {},
     "output_type": "execute_result"
    }
   ],
   "source": [
    "z # The value did not change as you can see here "
   ]
  },
  {
   "cell_type": "code",
   "execution_count": 12,
   "id": "591edb82-4042-4548-8d41-82774c6b7ad8",
   "metadata": {},
   "outputs": [
    {
     "data": {
      "text/plain": [
       "tensor([[2.7086, 2.3793],\n",
       "        [2.4785, 2.4835],\n",
       "        [2.5868, 2.5180]])"
      ]
     },
     "execution_count": 12,
     "metadata": {},
     "output_type": "execute_result"
    }
   ],
   "source": [
    "z.add_(1) # It will "
   ]
  },
  {
   "cell_type": "code",
   "execution_count": 13,
   "id": "4557807f-5bb5-4191-b0e1-083d12377d5a",
   "metadata": {},
   "outputs": [
    {
     "data": {
      "text/plain": [
       "tensor([[2.7086, 2.3793],\n",
       "        [2.4785, 2.4835],\n",
       "        [2.5868, 2.5180]])"
      ]
     },
     "execution_count": 13,
     "metadata": {},
     "output_type": "execute_result"
    }
   ],
   "source": [
    "z # Tha value chnaged completly"
   ]
  },
  {
   "cell_type": "markdown",
   "id": "1ff0ef55-1d3c-4821-bef2-d68e2b07ad03",
   "metadata": {},
   "source": [
    "## Reshaping\n",
    "\n",
    "Reshaping the tensors is usually common operation. First to get the size of tensor use `.size()`. Then reshape a tensor using `.resize()` or `.resize_()` notice the underscore, reshaping an in-place operation"
   ]
  },
  {
   "cell_type": "code",
   "execution_count": 22,
   "id": "eb69c592-be31-484c-ae8f-0b2658e6f8f6",
   "metadata": {},
   "outputs": [
    {
     "name": "stderr",
     "output_type": "stream",
     "text": [
      "/Users/mekalathuruchenchaiah/Desktop/PROGRAMMING/Projects/GPU-pytorch/env/lib/python3.8/site-packages/torch/_tensor.py:836: UserWarning: non-inplace resize is deprecated\n",
      "  warnings.warn(\"non-inplace resize is deprecated\")\n"
     ]
    },
    {
     "data": {
      "text/plain": [
       "tensor([[2.7086, 2.3793, 2.4785],\n",
       "        [2.4835, 2.5868, 2.5180]])"
      ]
     },
     "execution_count": 22,
     "metadata": {},
     "output_type": "execute_result"
    }
   ],
   "source": [
    "z1 = z.resize(2, 3)\n",
    "z1"
   ]
  },
  {
   "cell_type": "code",
   "execution_count": 19,
   "id": "6c28d5a3-98c2-4bc7-a826-3605daa84612",
   "metadata": {},
   "outputs": [
    {
     "data": {
      "text/plain": [
       "tensor([[2.7086, 2.3793],\n",
       "        [2.4785, 2.4835],\n",
       "        [2.5868, 2.5180]])"
      ]
     },
     "execution_count": 19,
     "metadata": {},
     "output_type": "execute_result"
    }
   ],
   "source": [
    "z # Not chnaged permaneltly "
   ]
  },
  {
   "cell_type": "code",
   "execution_count": 23,
   "id": "0dd09198-5a6b-4978-8157-e83fc9811f80",
   "metadata": {},
   "outputs": [
    {
     "data": {
      "text/plain": [
       "tensor([[2.7086, 2.3793],\n",
       "        [2.4785, 2.4835],\n",
       "        [2.5868, 2.5180]])"
      ]
     },
     "execution_count": 23,
     "metadata": {},
     "output_type": "execute_result"
    }
   ],
   "source": [
    "z.resize_(3, 2)"
   ]
  },
  {
   "cell_type": "code",
   "execution_count": 25,
   "id": "6685fb4c-4615-4b65-9d48-7c5be80de2f1",
   "metadata": {},
   "outputs": [
    {
     "data": {
      "text/plain": [
       "tensor([[2.7086, 2.3793],\n",
       "        [2.4785, 2.4835],\n",
       "        [2.5868, 2.5180]])"
      ]
     },
     "execution_count": 25,
     "metadata": {},
     "output_type": "execute_result"
    }
   ],
   "source": [
    "z # Now changed permanently"
   ]
  },
  {
   "cell_type": "markdown",
   "id": "2dd06ee4-3755-4846-9da2-a7cb96fdbb66",
   "metadata": {},
   "source": [
    "## Numpy to Torch and back\n",
    "\n",
    "Converting between Numpy arrays and Torch tensors is super simple and useful. To create a tensor from a Numpy array, use torch `.from _numpy()` . To convert a tensor to a Numpy array, use the `.numpy()` method."
   ]
  },
  {
   "cell_type": "code",
   "execution_count": 27,
   "id": "f1baeaf5-f157-421a-91c9-faff5c720636",
   "metadata": {},
   "outputs": [
    {
     "data": {
      "text/plain": [
       "array([[0.56016318, 0.09058812, 0.69882777, 0.34597718],\n",
       "       [0.94429734, 0.96116969, 0.20071813, 0.20311369],\n",
       "       [0.0412566 , 0.25702409, 0.04257092, 0.12484024]])"
      ]
     },
     "execution_count": 27,
     "metadata": {},
     "output_type": "execute_result"
    }
   ],
   "source": [
    "a = np.random.rand(3, 4)\n",
    "a"
   ]
  },
  {
   "cell_type": "code",
   "execution_count": 34,
   "id": "5b75dfb7-ccd1-4e1a-913c-a78229eefe89",
   "metadata": {},
   "outputs": [
    {
     "data": {
      "text/plain": [
       "tensor([[0.5602, 0.0906, 0.6988, 0.3460],\n",
       "        [0.9443, 0.9612, 0.2007, 0.2031],\n",
       "        [0.0413, 0.2570, 0.0426, 0.1248]], dtype=torch.float64)"
      ]
     },
     "execution_count": 34,
     "metadata": {},
     "output_type": "execute_result"
    }
   ],
   "source": [
    "b = torch.from_numpy(a) # Changes the array to tensor \n",
    "b "
   ]
  },
  {
   "cell_type": "code",
   "execution_count": 35,
   "id": "942dcb10-5308-4aa0-9241-02deac6a7b49",
   "metadata": {},
   "outputs": [
    {
     "data": {
      "text/plain": [
       "array([[0.56016318, 0.09058812, 0.69882777, 0.34597718],\n",
       "       [0.94429734, 0.96116969, 0.20071813, 0.20311369],\n",
       "       [0.0412566 , 0.25702409, 0.04257092, 0.12484024]])"
      ]
     },
     "execution_count": 35,
     "metadata": {},
     "output_type": "execute_result"
    }
   ],
   "source": [
    "b.numpy() # Will change the tensor to numpy array"
   ]
  },
  {
   "cell_type": "markdown",
   "id": "5378fcd5-219d-41fa-a357-93ea5b84ac46",
   "metadata": {},
   "source": [
    "## Defining Networks\n",
    "\n",
    "Let's see how to build neural networks using the pytorch \n",
    "\n"
   ]
  },
  {
   "cell_type": "code",
   "execution_count": 14,
   "id": "27ebb4e3-e463-4bdd-b80e-85b7277dce7f",
   "metadata": {},
   "outputs": [],
   "source": [
    "import numpy as np\n",
    "import torch \n",
    "\n",
    "import helper \n",
    "\n",
    "import matplotlib.pyplot as plt \n",
    "from torchvision import datasets, transforms\n",
    "\n",
    "%matplotlib inline \n",
    "%config InlineBackend.figure_format = 'retina'"
   ]
  },
  {
   "cell_type": "markdown",
   "id": "d0eb5fcc-a0e8-4d5f-a676-642c88df41d5",
   "metadata": {},
   "source": [
    "The dataset we used for this example is `MNIST`. This dataset contains the bunch of handdrawn digits from 0 through 9 which is used to classify the images into digits. Here we are using the `torchvision` to download and load the training data."
   ]
  },
  {
   "cell_type": "code",
   "execution_count": 15,
   "id": "74829f7f-14fd-4676-983d-91f9c4785f2f",
   "metadata": {},
   "outputs": [],
   "source": [
    "# Define a transform to normalize the data \n",
    "\n",
    "transform = transforms.Compose([transforms.ToTensor(), \n",
    "                               transforms.Normalize(0.5, 0.5, 0.5), (0.5, 0.5, 0.5),])\n",
    "\n",
    "\n",
    "# \n"
   ]
  },
  {
   "cell_type": "code",
   "execution_count": null,
   "id": "f9d1bc6e-4e5f-4f0b-8335-32c76940086c",
   "metadata": {},
   "outputs": [],
   "source": []
  }
 ],
 "metadata": {
  "kernelspec": {
   "display_name": "Python 3 (ipykernel)",
   "language": "python",
   "name": "python3"
  },
  "language_info": {
   "codemirror_mode": {
    "name": "ipython",
    "version": 3
   },
   "file_extension": ".py",
   "mimetype": "text/x-python",
   "name": "python",
   "nbconvert_exporter": "python",
   "pygments_lexer": "ipython3",
   "version": "3.8.18"
  }
 },
 "nbformat": 4,
 "nbformat_minor": 5
}
