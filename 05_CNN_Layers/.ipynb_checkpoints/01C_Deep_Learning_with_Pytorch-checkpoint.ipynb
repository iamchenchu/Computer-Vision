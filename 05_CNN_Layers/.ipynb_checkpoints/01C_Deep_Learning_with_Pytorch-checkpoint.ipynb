{
 "cells": [
  {
   "cell_type": "markdown",
   "id": "4524b98d-1a09-483e-8079-184885afb75c",
   "metadata": {},
   "source": [
    "## Deep Learning with Python\n",
    "\n",
    "Let's put all the pieces together: Python, NumPy/pandas/Matplotlib, Linear Algebra and Neural Networks, and learn PyTorch. PyTorch is an open source library for Python easily used to train neural networks.\n",
    "\n"
   ]
  },
  {
   "cell_type": "code",
   "execution_count": 1,
   "id": "466037fb-801b-4896-9d18-0f20733720e2",
   "metadata": {},
   "outputs": [
    {
     "name": "stdout",
     "output_type": "stream",
     "text": [
      "Using dir():\n",
      "['T_destination', '__annotations__', '__call__', '__class__', '__delattr__', '__dict__', '__dir__', '__doc__', '__eq__', '__format__', '__ge__', '__getattr__', '__getattribute__', '__getstate__', '__gt__', '__hash__', '__init__', '__init_subclass__', '__le__', '__lt__', '__module__', '__ne__', '__new__', '__reduce__', '__reduce_ex__', '__repr__', '__setattr__', '__setstate__', '__sizeof__', '__str__', '__subclasshook__', '__weakref__', '_apply', '_call_impl', '_compiled_call_impl', '_get_backward_hooks', '_get_backward_pre_hooks', '_get_name', '_load_from_state_dict', '_maybe_warn_non_full_backward_hook', '_named_members', '_register_load_state_dict_pre_hook', '_register_state_dict_hook', '_replicate_for_data_parallel', '_save_to_state_dict', '_slow_forward', '_version', '_wrapped_call_impl', 'add_module', 'apply', 'bfloat16', 'buffers', 'call_super_init', 'children', 'compile', 'cpu', 'cuda', 'double', 'dump_patches', 'eval', 'extra_repr', 'float', 'forward', 'get_buffer', 'get_extra_state', 'get_parameter', 'get_submodule', 'half', 'ipu', 'load_state_dict', 'modules', 'named_buffers', 'named_children', 'named_modules', 'named_parameters', 'parameters', 'register_backward_hook', 'register_buffer', 'register_forward_hook', 'register_forward_pre_hook', 'register_full_backward_hook', 'register_full_backward_pre_hook', 'register_load_state_dict_post_hook', 'register_module', 'register_parameter', 'register_state_dict_pre_hook', 'requires_grad_', 'set_extra_state', 'share_memory', 'state_dict', 'to', 'to_empty', 'train', 'type', 'xpu', 'zero_grad']\n",
      "\n",
      "Using inspect.getmembers():\n",
      "__call__\n",
      "__delattr__\n",
      "__dir__\n",
      "__getattr__\n",
      "__getstate__\n",
      "__init__\n",
      "__repr__\n",
      "__setattr__\n",
      "__setstate__\n",
      "_apply\n",
      "_call_impl\n",
      "_get_backward_hooks\n",
      "_get_backward_pre_hooks\n",
      "_get_name\n",
      "_load_from_state_dict\n",
      "_maybe_warn_non_full_backward_hook\n",
      "_named_members\n",
      "_register_load_state_dict_pre_hook\n",
      "_register_state_dict_hook\n",
      "_replicate_for_data_parallel\n",
      "_save_to_state_dict\n",
      "_slow_forward\n",
      "_wrapped_call_impl\n",
      "add_module\n",
      "apply\n",
      "bfloat16\n",
      "buffers\n",
      "children\n",
      "compile\n",
      "cpu\n",
      "cuda\n",
      "double\n",
      "eval\n",
      "extra_repr\n",
      "float\n",
      "forward\n",
      "get_buffer\n",
      "get_extra_state\n",
      "get_parameter\n",
      "get_submodule\n",
      "half\n",
      "ipu\n",
      "load_state_dict\n",
      "modules\n",
      "named_buffers\n",
      "named_children\n",
      "named_modules\n",
      "named_parameters\n",
      "parameters\n",
      "register_backward_hook\n",
      "register_buffer\n",
      "register_forward_hook\n",
      "register_forward_pre_hook\n",
      "register_full_backward_hook\n",
      "register_full_backward_pre_hook\n",
      "register_load_state_dict_post_hook\n",
      "register_module\n",
      "register_parameter\n",
      "register_state_dict_pre_hook\n",
      "requires_grad_\n",
      "set_extra_state\n",
      "share_memory\n",
      "state_dict\n",
      "to\n",
      "to_empty\n",
      "train\n",
      "type\n",
      "xpu\n",
      "zero_grad\n",
      "\n",
      "Using help():\n"
     ]
    }
   ],
   "source": [
    "import torch.nn as nn\n",
    "import inspect\n",
    "\n",
    "# Using dir()\n",
    "print(\"Using dir():\")\n",
    "print(dir(nn.Module))\n",
    "\n",
    "# Using inspect.getmembers()\n",
    "print(\"\\nUsing inspect.getmembers():\")\n",
    "methods = inspect.getmembers(nn.Module, predicate=inspect.isfunction)\n",
    "for method in methods:\n",
    "    print(method[0])\n",
    "\n",
    "# Using help()\n",
    "print(\"\\nUsing help():\")\n",
    "\n"
   ]
  },
  {
   "cell_type": "markdown",
   "id": "44e899bc-7fa9-4009-b484-27e26f45e0c9",
   "metadata": {},
   "source": [
    "## Tensors \n",
    "\n",
    "The fundamental data structure of the pytorch is `Tensor`, Our neural networks are just the linear algebra computations on these tensors.\n",
    "\n",
    "- vector is a one dimensional tensor\n",
    "- a matrix is a 2 - dimensional tensor\n",
    "- an array with 3 indices is a 3 dimensional tensor (Example RGB images) "
   ]
  },
  {
   "cell_type": "code",
   "execution_count": 2,
   "id": "98095bd5-49b5-4642-bb03-91a39d4c57c8",
   "metadata": {},
   "outputs": [],
   "source": [
    "import numpy as np\n",
    "import torch "
   ]
  },
  {
   "cell_type": "code",
   "execution_count": 3,
   "id": "c1ebfc52-84bc-4686-8e9b-3d07fb780bdf",
   "metadata": {},
   "outputs": [
    {
     "data": {
      "text/plain": [
       "tensor([[0.3224, 0.3212],\n",
       "        [0.5791, 0.4230],\n",
       "        [0.2884, 0.3317]])"
      ]
     },
     "execution_count": 3,
     "metadata": {},
     "output_type": "execute_result"
    }
   ],
   "source": [
    "x = torch.rand(3, 2)\n",
    "x"
   ]
  },
  {
   "cell_type": "code",
   "execution_count": 4,
   "id": "fb9c4922-54e0-41a6-99ea-8d4f1b871474",
   "metadata": {},
   "outputs": [
    {
     "data": {
      "text/plain": [
       "torch.Size([3, 2])"
      ]
     },
     "execution_count": 4,
     "metadata": {},
     "output_type": "execute_result"
    }
   ],
   "source": [
    "x.size()"
   ]
  },
  {
   "cell_type": "code",
   "execution_count": 5,
   "id": "5f4eb397-56dc-4c54-ac37-41a3fbc19952",
   "metadata": {},
   "outputs": [
    {
     "data": {
      "text/plain": [
       "tensor([[1., 1.],\n",
       "        [1., 1.],\n",
       "        [1., 1.]])"
      ]
     },
     "execution_count": 5,
     "metadata": {},
     "output_type": "execute_result"
    }
   ],
   "source": [
    "y = torch.ones(x.size()) # it will calculate the size of x and pass it to the y\n",
    "y"
   ]
  },
  {
   "cell_type": "code",
   "execution_count": 6,
   "id": "31258121-1114-4a09-bdb1-c9dca2189115",
   "metadata": {},
   "outputs": [
    {
     "data": {
      "text/plain": [
       "tensor([[1.3224, 1.3212],\n",
       "        [1.5791, 1.4230],\n",
       "        [1.2884, 1.3317]])"
      ]
     },
     "execution_count": 6,
     "metadata": {},
     "output_type": "execute_result"
    }
   ],
   "source": [
    "z = x + y\n",
    "\n",
    "z"
   ]
  },
  {
   "cell_type": "code",
   "execution_count": 7,
   "id": "b1c224c4-3654-4cdf-882a-64d1a3fc714a",
   "metadata": {},
   "outputs": [
    {
     "data": {
      "text/plain": [
       "tensor([1.3224, 1.3212])"
      ]
     },
     "execution_count": 7,
     "metadata": {},
     "output_type": "execute_result"
    }
   ],
   "source": [
    "z[0] # Get the first row"
   ]
  },
  {
   "cell_type": "code",
   "execution_count": 8,
   "id": "34d68d22-3d67-4577-81d0-046ddbaf1c3b",
   "metadata": {},
   "outputs": [
    {
     "data": {
      "text/plain": [
       "tensor([[1.3212],\n",
       "        [1.4230],\n",
       "        [1.3317]])"
      ]
     },
     "execution_count": 8,
     "metadata": {},
     "output_type": "execute_result"
    }
   ],
   "source": [
    "z[:, 1:] # All the rows for the 2nd column "
   ]
  },
  {
   "cell_type": "code",
   "execution_count": 9,
   "id": "6211a8bc-2e74-47f8-adc1-00a12725f49b",
   "metadata": {},
   "outputs": [
    {
     "data": {
      "text/plain": [
       "tensor([[1.3224],\n",
       "        [1.5791],\n",
       "        [1.2884]])"
      ]
     },
     "execution_count": 9,
     "metadata": {},
     "output_type": "execute_result"
    }
   ],
   "source": [
    "z[:, :1] # All the rows for the 1st column "
   ]
  },
  {
   "cell_type": "code",
   "execution_count": 10,
   "id": "ae71608d-b851-464f-a8e2-c972d6eaf720",
   "metadata": {},
   "outputs": [
    {
     "data": {
      "text/plain": [
       "tensor([[2.3224, 2.3212],\n",
       "        [2.5791, 2.4230],\n",
       "        [2.2884, 2.3317]])"
      ]
     },
     "execution_count": 10,
     "metadata": {},
     "output_type": "execute_result"
    }
   ],
   "source": [
    "z.add(1) # It will change the z value temparaly means not inplace"
   ]
  },
  {
   "cell_type": "code",
   "execution_count": 11,
   "id": "e51b936c-bda5-4046-8e7d-f66e2e03a394",
   "metadata": {},
   "outputs": [
    {
     "data": {
      "text/plain": [
       "tensor([[1.3224, 1.3212],\n",
       "        [1.5791, 1.4230],\n",
       "        [1.2884, 1.3317]])"
      ]
     },
     "execution_count": 11,
     "metadata": {},
     "output_type": "execute_result"
    }
   ],
   "source": [
    "z # The value did not change as you can see here "
   ]
  },
  {
   "cell_type": "code",
   "execution_count": 12,
   "id": "591edb82-4042-4548-8d41-82774c6b7ad8",
   "metadata": {},
   "outputs": [
    {
     "data": {
      "text/plain": [
       "tensor([[2.3224, 2.3212],\n",
       "        [2.5791, 2.4230],\n",
       "        [2.2884, 2.3317]])"
      ]
     },
     "execution_count": 12,
     "metadata": {},
     "output_type": "execute_result"
    }
   ],
   "source": [
    "z.add_(1) # It will "
   ]
  },
  {
   "cell_type": "code",
   "execution_count": 13,
   "id": "4557807f-5bb5-4191-b0e1-083d12377d5a",
   "metadata": {},
   "outputs": [
    {
     "data": {
      "text/plain": [
       "tensor([[2.3224, 2.3212],\n",
       "        [2.5791, 2.4230],\n",
       "        [2.2884, 2.3317]])"
      ]
     },
     "execution_count": 13,
     "metadata": {},
     "output_type": "execute_result"
    }
   ],
   "source": [
    "z # Tha value chnaged completly"
   ]
  },
  {
   "cell_type": "markdown",
   "id": "1ff0ef55-1d3c-4821-bef2-d68e2b07ad03",
   "metadata": {},
   "source": [
    "## Reshaping\n",
    "\n",
    "Reshaping the tensors is usually common operation. First to get the size of tensor use `.size()`. Then reshape a tensor using `.resize()` or `.resize_()` notice the underscore, reshaping an in-place operation"
   ]
  },
  {
   "cell_type": "code",
   "execution_count": 14,
   "id": "eb69c592-be31-484c-ae8f-0b2658e6f8f6",
   "metadata": {},
   "outputs": [
    {
     "name": "stderr",
     "output_type": "stream",
     "text": [
      "/Users/mekalathuruchenchaiah/Desktop/PROGRAMMING/Projects/GPU-pytorch/env/lib/python3.8/site-packages/torch/_tensor.py:836: UserWarning: non-inplace resize is deprecated\n",
      "  warnings.warn(\"non-inplace resize is deprecated\")\n"
     ]
    },
    {
     "data": {
      "text/plain": [
       "tensor([[2.3224, 2.3212, 2.5791],\n",
       "        [2.4230, 2.2884, 2.3317]])"
      ]
     },
     "execution_count": 14,
     "metadata": {},
     "output_type": "execute_result"
    }
   ],
   "source": [
    "z1 = z.resize(2, 3)\n",
    "z1"
   ]
  },
  {
   "cell_type": "code",
   "execution_count": 15,
   "id": "6c28d5a3-98c2-4bc7-a826-3605daa84612",
   "metadata": {},
   "outputs": [
    {
     "data": {
      "text/plain": [
       "tensor([[2.3224, 2.3212],\n",
       "        [2.5791, 2.4230],\n",
       "        [2.2884, 2.3317]])"
      ]
     },
     "execution_count": 15,
     "metadata": {},
     "output_type": "execute_result"
    }
   ],
   "source": [
    "z # Not chnaged permaneltly "
   ]
  },
  {
   "cell_type": "code",
   "execution_count": 16,
   "id": "0dd09198-5a6b-4978-8157-e83fc9811f80",
   "metadata": {},
   "outputs": [
    {
     "data": {
      "text/plain": [
       "tensor([[2.3224, 2.3212],\n",
       "        [2.5791, 2.4230],\n",
       "        [2.2884, 2.3317]])"
      ]
     },
     "execution_count": 16,
     "metadata": {},
     "output_type": "execute_result"
    }
   ],
   "source": [
    "z.resize_(3, 2)"
   ]
  },
  {
   "cell_type": "code",
   "execution_count": 17,
   "id": "6685fb4c-4615-4b65-9d48-7c5be80de2f1",
   "metadata": {},
   "outputs": [
    {
     "data": {
      "text/plain": [
       "tensor([[2.3224, 2.3212],\n",
       "        [2.5791, 2.4230],\n",
       "        [2.2884, 2.3317]])"
      ]
     },
     "execution_count": 17,
     "metadata": {},
     "output_type": "execute_result"
    }
   ],
   "source": [
    "z # Now changed permanently"
   ]
  },
  {
   "cell_type": "markdown",
   "id": "2dd06ee4-3755-4846-9da2-a7cb96fdbb66",
   "metadata": {},
   "source": [
    "## Numpy to Torch and back\n",
    "\n",
    "Converting between Numpy arrays and Torch tensors is super simple and useful. To create a tensor from a Numpy array, use torch `.from _numpy()` . To convert a tensor to a Numpy array, use the `.numpy()` method."
   ]
  },
  {
   "cell_type": "code",
   "execution_count": 18,
   "id": "f1baeaf5-f157-421a-91c9-faff5c720636",
   "metadata": {},
   "outputs": [
    {
     "data": {
      "text/plain": [
       "array([[0.84304397, 0.01880894, 0.75219276, 0.86340428],\n",
       "       [0.67934247, 0.10004579, 0.86316134, 0.01853742],\n",
       "       [0.66781168, 0.80783505, 0.72559143, 0.35045998]])"
      ]
     },
     "execution_count": 18,
     "metadata": {},
     "output_type": "execute_result"
    }
   ],
   "source": [
    "a = np.random.rand(3, 4)\n",
    "a"
   ]
  },
  {
   "cell_type": "code",
   "execution_count": 19,
   "id": "5b75dfb7-ccd1-4e1a-913c-a78229eefe89",
   "metadata": {},
   "outputs": [
    {
     "data": {
      "text/plain": [
       "tensor([[0.8430, 0.0188, 0.7522, 0.8634],\n",
       "        [0.6793, 0.1000, 0.8632, 0.0185],\n",
       "        [0.6678, 0.8078, 0.7256, 0.3505]], dtype=torch.float64)"
      ]
     },
     "execution_count": 19,
     "metadata": {},
     "output_type": "execute_result"
    }
   ],
   "source": [
    "b = torch.from_numpy(a) # Changes the array to tensor \n",
    "b "
   ]
  },
  {
   "cell_type": "code",
   "execution_count": 20,
   "id": "942dcb10-5308-4aa0-9241-02deac6a7b49",
   "metadata": {},
   "outputs": [
    {
     "data": {
      "text/plain": [
       "array([[0.84304397, 0.01880894, 0.75219276, 0.86340428],\n",
       "       [0.67934247, 0.10004579, 0.86316134, 0.01853742],\n",
       "       [0.66781168, 0.80783505, 0.72559143, 0.35045998]])"
      ]
     },
     "execution_count": 20,
     "metadata": {},
     "output_type": "execute_result"
    }
   ],
   "source": [
    "b.numpy() # Will change the tensor to numpy array"
   ]
  },
  {
   "cell_type": "markdown",
   "id": "5378fcd5-219d-41fa-a357-93ea5b84ac46",
   "metadata": {},
   "source": [
    "## Defining Networks\n",
    "\n",
    "Let's see how to build neural networks using the pytorch \n",
    "\n"
   ]
  },
  {
   "cell_type": "code",
   "execution_count": 21,
   "id": "27ebb4e3-e463-4bdd-b80e-85b7277dce7f",
   "metadata": {},
   "outputs": [],
   "source": [
    "import numpy as np\n",
    "import torch \n",
    "\n",
    "import helper \n",
    "\n",
    "import matplotlib.pyplot as plt \n",
    "from torchvision import datasets, transforms\n",
    "\n",
    "%matplotlib inline \n",
    "%config InlineBackend.figure_format = 'retina'"
   ]
  },
  {
   "cell_type": "markdown",
   "id": "d0eb5fcc-a0e8-4d5f-a676-642c88df41d5",
   "metadata": {},
   "source": [
    "The dataset we used for this example is `MNIST`. This dataset contains the bunch of handdrawn digits from 0 through 9 which is used to classify the images into digits. Here we are using the `torchvision` to download and load the training data."
   ]
  },
  {
   "cell_type": "code",
   "execution_count": 22,
   "id": "74829f7f-14fd-4676-983d-91f9c4785f2f",
   "metadata": {},
   "outputs": [
    {
     "name": "stdout",
     "output_type": "stream",
     "text": [
      "torch.Size([64, 1, 28, 28])\n"
     ]
    }
   ],
   "source": [
    "# Define the transform to normalize the grayscale data\n",
    "transform = transforms.Compose([\n",
    "    transforms.ToTensor(),\n",
    "    transforms.Normalize((0.5,), (0.5,))  # For grayscale images\n",
    "])\n",
    "\n",
    "# Download and load the training data\n",
    "trainset = datasets.MNIST('MNIST_data/', download=True, train=True, transform=transform)\n",
    "trainloader = torch.utils.data.DataLoader(trainset, batch_size=64, shuffle=True)\n",
    "\n",
    "# Download and load the test data\n",
    "testset = datasets.MNIST('MNIST_data/', download=True, train=False, transform=transform)\n",
    "testloader = torch.utils.data.DataLoader(testset, batch_size=64, shuffle=True)\n",
    "\n",
    "# Fetch a batch of images and labels\n",
    "dataiter = iter(trainloader)\n",
    "images, labels = next(dataiter)\n",
    "\n",
    "print(images.shape)  # Should output something like [64, 1, 28, 28] for a batch of 64 grayscale images\n"
   ]
  },
  {
   "cell_type": "code",
   "execution_count": 23,
   "id": "b6ed338e-8b63-4fc6-838e-f3e52127a1dc",
   "metadata": {},
   "outputs": [
    {
     "data": {
      "text/plain": [
       "<matplotlib.image.AxesImage at 0x1658eb970>"
      ]
     },
     "execution_count": 23,
     "metadata": {},
     "output_type": "execute_result"
    },
    {
     "data": {
      "image/png": "[encoded data removed]",
      "text/plain": [
       "<Figure size 640x480 with 1 Axes>"
      ]
     },
     "metadata": {
      "image/png": {
       "height": 413,
       "width": 416
      }
     },
     "output_type": "display_data"
    }
   ],
   "source": [
    "plt.imshow(images[1].numpy().squeeze(), cmap='Greys_r')"
   ]
  },
  {
   "cell_type": "markdown",
   "id": "342f4ef2-f938-4cec-9719-5ee804e5fc01",
   "metadata": {},
   "source": [
    "## Building networks with PyTorch\n",
    "\n",
    "Here I'll use PyTorch to build a simple feedfoward network to classify the MNIST images. That is, the network will receive a digit image as input and predict the digit in the image.\n",
    "\n",
    "<img src=\"assets/mlp_mnist.png\" width=600px>\n",
    "\n",
    "To build a neural network with PyTorch, you use the `torch.nn` module. The network itself is a class inheriting from `torch.nn.Module`. You define each of the operations separately, like `nn.Linear(784, 128)` for a fully connected linear layer with 784 inputs and 128 units.\n",
    "\n",
    "The class needs to include a `forward` method that implements the forward pass through the network. In this method, you pass some input tensor `x` through each of the operations you defined earlier. The `torch.nn` module also has functional equivalents for things like ReLUs in `torch.nn.functional`. This module is usually imported as `F`. Then to use a ReLU activation on some layer (which is just a tensor), you'd do `F.relu(x)`. Below are a few different commonly used activation functions.\n",
    "\n",
    "<img src=\"assets/activation.png\" width=700px>\n",
    "\n",
    "So, for this network, I'll build it with three fully connected layers, then a softmax output for predicting classes. The softmax function is similar to the sigmoid in that it squashes inputs between 0 and 1, but it's also normalized so that all the values sum to one like a proper probability distribution."
   ]
  },
  {
   "cell_type": "code",
   "execution_count": 24,
   "id": "8483885d-eb01-4cac-807d-8cc9b3835aa3",
   "metadata": {},
   "outputs": [],
   "source": [
    "import torch\n",
    "from torch import nn # Neural Network Functions\n",
    "import torch.nn.functional as F"
   ]
  },
  {
   "cell_type": "code",
   "execution_count": 25,
   "id": "b11eafe7-ffb2-4821-8600-01390277d37e",
   "metadata": {},
   "outputs": [
    {
     "name": "stdout",
     "output_type": "stream",
     "text": [
      "Network(\n",
      "  (fc1): Linear(in_features=784, out_features=128, bias=True)\n",
      "  (fc2): Linear(in_features=128, out_features=64, bias=True)\n",
      "  (fc3): Linear(in_features=64, out_features=10, bias=True)\n",
      ")\n"
     ]
    }
   ],
   "source": [
    "import torch\n",
    "import torch.nn as nn\n",
    "import torch.nn.functional as F\n",
    "\n",
    "class Network(nn.Module):\n",
    "    def __init__(self):\n",
    "        super().__init__()  # Initialize the parent class (nn.Module)\n",
    "        \n",
    "        # Define the fully connected layers\n",
    "        self.fc1 = nn.Linear(784, 128)  # Input size: 784 (28x28 image flattened), Output: 128 neurons\n",
    "        self.fc2 = nn.Linear(128, 64)   # Input: 128, Output: 64 neurons\n",
    "        self.fc3 = nn.Linear(64, 10)    # Input: 64, Output: 10 neurons (for 10 classes)\n",
    "\n",
    "    # Forward pass\n",
    "    def forward(self, x):\n",
    "        x = self.fc1(x)           # Pass through first fully connected layer\n",
    "        x = F.relu(x)             # Apply ReLU activation function\n",
    "        x = self.fc2(x)           # Pass through second fully connected layer\n",
    "        x = F.relu(x)             # Apply ReLU activation function\n",
    "        x = self.fc3(x)           # Pass through third fully connected layer\n",
    "        x = F.softmax(x, dim=1)   # Apply softmax to output (across the class dimension)\n",
    "        return x\n",
    "\n",
    "# Instantiate the model\n",
    "model = Network()\n",
    "print(model)\n"
   ]
  },
  {
   "cell_type": "code",
   "execution_count": 26,
   "id": "baf2f326-718a-4186-8814-01253ca71635",
   "metadata": {},
   "outputs": [
    {
     "name": "stdout",
     "output_type": "stream",
     "text": [
      "Parameter containing:\n",
      "tensor([[ 0.0044,  0.0013,  0.0068,  ..., -0.0061, -0.0191, -0.0350],\n",
      "        [-0.0332,  0.0304,  0.0099,  ..., -0.0180, -0.0133,  0.0073],\n",
      "        [ 0.0275, -0.0037, -0.0236,  ...,  0.0307,  0.0225,  0.0195],\n",
      "        ...,\n",
      "        [-0.0325, -0.0287,  0.0178,  ..., -0.0284, -0.0038, -0.0063],\n",
      "        [ 0.0026,  0.0272, -0.0189,  ...,  0.0092, -0.0083,  0.0156],\n",
      "        [ 0.0357, -0.0148,  0.0276,  ..., -0.0180,  0.0304,  0.0301]],\n",
      "       requires_grad=True)\n",
      "Parameter containing:\n",
      "tensor([ 0.0187,  0.0041,  0.0092, -0.0296, -0.0315,  0.0212,  0.0314, -0.0300,\n",
      "         0.0030,  0.0178,  0.0211, -0.0244,  0.0166, -0.0129, -0.0199,  0.0013,\n",
      "         0.0117,  0.0091,  0.0179,  0.0095, -0.0110, -0.0015, -0.0270, -0.0208,\n",
      "         0.0319,  0.0132,  0.0113, -0.0263,  0.0067,  0.0311, -0.0312, -0.0096,\n",
      "         0.0271,  0.0320,  0.0339, -0.0210,  0.0162,  0.0102, -0.0111, -0.0294,\n",
      "        -0.0297, -0.0130,  0.0126,  0.0038,  0.0353,  0.0183, -0.0126,  0.0088,\n",
      "        -0.0032, -0.0126,  0.0200, -0.0219, -0.0131, -0.0245,  0.0072, -0.0224,\n",
      "        -0.0122, -0.0303,  0.0254,  0.0153,  0.0015, -0.0266, -0.0294,  0.0204,\n",
      "        -0.0274, -0.0005, -0.0074, -0.0089, -0.0063, -0.0167, -0.0125,  0.0181,\n",
      "        -0.0108, -0.0241,  0.0085, -0.0053, -0.0097,  0.0233,  0.0143,  0.0057,\n",
      "        -0.0346,  0.0288, -0.0044, -0.0315, -0.0074,  0.0154,  0.0258, -0.0022,\n",
      "        -0.0228, -0.0027,  0.0191,  0.0300, -0.0239, -0.0054,  0.0268, -0.0002,\n",
      "        -0.0115, -0.0144,  0.0043,  0.0296, -0.0103, -0.0279, -0.0013,  0.0061,\n",
      "        -0.0212, -0.0233, -0.0274, -0.0086,  0.0245,  0.0194,  0.0244, -0.0357,\n",
      "        -0.0003,  0.0031,  0.0177, -0.0112,  0.0156,  0.0350, -0.0137, -0.0279,\n",
      "         0.0133,  0.0229,  0.0249, -0.0174, -0.0110, -0.0264, -0.0076, -0.0016],\n",
      "       requires_grad=True)\n"
     ]
    }
   ],
   "source": [
    "# Weights and bias will be automatically created for us \n",
    "\n",
    "print(model.fc1.weight)\n",
    "print(model.fc1.bias)"
   ]
  },
  {
   "cell_type": "code",
   "execution_count": 27,
   "id": "5604bed5-3d57-45f7-bb9c-637b309dfef3",
   "metadata": {},
   "outputs": [
    {
     "data": {
      "image/png": "[encoded data removed]",
      "text/plain": [
       "<Figure size 600x900 with 2 Axes>"
      ]
     },
     "metadata": {
      "image/png": {
       "height": 327,
       "width": 589
      }
     },
     "output_type": "display_data"
    }
   ],
   "source": [
    "images, labels = next(iter(trainloader)) \n",
    "# This loads a batch of images and their corresponding labels from the trainloader. The images are in the shape [64, 1, 28, 28], representing a batch of 64 images,\n",
    "# each 28x28 pixels in size, and with 1 color channel (grayscale).\n",
    "\n",
    "images.resize_(64, 1, 784)\n",
    "images.resize_(images.shape[0], 1, 784)\n",
    "\n",
    "ps = model.forward(images[0])\n",
    "\n",
    "helper.view_classify(images[0].view(1, 28, 28), ps)"
   ]
  },
  {
   "cell_type": "markdown",
   "id": "329299ae-761a-465a-9050-5bf9d4aa63b5",
   "metadata": {},
   "source": [
    "pytorch provides more convenient way of building a models using `nn.Sequential`"
   ]
  },
  {
   "cell_type": "code",
   "execution_count": 29,
   "id": "621fa6f1-f20d-48f9-aa61-6eaa2c9b9b88",
   "metadata": {},
   "outputs": [
    {
     "ename": "AttributeError",
     "evalue": "module 'torch.nn' has no attribute 'Relu'",
     "output_type": "error",
     "traceback": [
      "\u001b[0;31m---------------------------------------------------------------------------\u001b[0m",
      "\u001b[0;31mAttributeError\u001b[0m                            Traceback (most recent call last)",
      "Cell \u001b[0;32mIn[29], line 9\u001b[0m\n\u001b[1;32m      5\u001b[0m hidden_size \u001b[38;5;241m=\u001b[39m [\u001b[38;5;241m128\u001b[39m, \u001b[38;5;241m64\u001b[39m]\n\u001b[1;32m      6\u001b[0m output_size \u001b[38;5;241m=\u001b[39m \u001b[38;5;241m10\u001b[39m\n\u001b[1;32m      8\u001b[0m model \u001b[38;5;241m=\u001b[39m nn\u001b[38;5;241m.\u001b[39mSequential(nn\u001b[38;5;241m.\u001b[39mLinear(input_size, hidden_size[\u001b[38;5;241m0\u001b[39m]),\n\u001b[0;32m----> 9\u001b[0m                      \u001b[43mnn\u001b[49m\u001b[38;5;241;43m.\u001b[39;49m\u001b[43mRelu\u001b[49m(),\n\u001b[1;32m     10\u001b[0m                      nn\u001b[38;5;241m.\u001b[39mLinear(hidden_size[\u001b[38;5;241m0\u001b[39m], hidden_size[\u001b[38;5;241m1\u001b[39m]),\n\u001b[1;32m     11\u001b[0m                      nn\u001b[38;5;241m.\u001b[39mRelu(),\n\u001b[1;32m     12\u001b[0m                      nn\u001b[38;5;241m.\u001b[39mLinear(hidden_size[\u001b[38;5;241m1\u001b[39m], output_size),\n\u001b[1;32m     13\u001b[0m                      nn\u001b[38;5;241m.\u001b[39mSoftmax(dim\u001b[38;5;241m=\u001b[39m\u001b[38;5;241m1\u001b[39m)\n\u001b[1;32m     14\u001b[0m                      )\n\u001b[1;32m     16\u001b[0m \u001b[38;5;28mprint\u001b[39m(model)\n",
      "\u001b[0;31mAttributeError\u001b[0m: module 'torch.nn' has no attribute 'Relu'"
     ]
    }
   ],
   "source": [
    "import torch.nn as nn\n",
    "\n",
    "\n",
    "input_size = 784\n",
    "hidden_size = [128, 64]\n",
    "output_size = 10\n",
    "\n",
    "model = nn.Sequential(nn.Linear(input_size, hidden_size[0]),\n",
    "                     nn.Relu(),\n",
    "                     nn.Linear(hidden_size[0], hidden_size[1]),\n",
    "                     nn.Relu(),\n",
    "                     nn.Linear(hidden_size[1], output_size),\n",
    "                     nn.Softmax(dim=1)\n",
    "                     )\n",
    "\n",
    "print(model)"
   ]
  },
  {
   "cell_type": "code",
   "execution_count": null,
   "id": "4b0b77ed-0ec2-4fcf-a159-167ce8fe39d7",
   "metadata": {},
   "outputs": [],
   "source": []
  }
 ],
 "metadata": {
  "kernelspec": {
   "display_name": "Python 3 (ipykernel)",
   "language": "python",
   "name": "python3"
  },
  "language_info": {
   "codemirror_mode": {
    "name": "ipython",
    "version": 3
   },
   "file_extension": ".py",
   "mimetype": "text/x-python",
   "name": "python",
   "nbconvert_exporter": "python",
   "pygments_lexer": "ipython3",
   "version": "3.8.18"
  }
 },
 "nbformat": 4,
 "nbformat_minor": 5
}
