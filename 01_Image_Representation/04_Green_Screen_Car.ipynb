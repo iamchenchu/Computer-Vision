{
 "cells": [
  {
   "cell_type": "markdown",
   "id": "b14af5df-ff7c-4fde-8ee1-1306a9487605",
   "metadata": {},
   "source": [
    "### Color Threshhold, Green Screen"
   ]
  },
  {
   "cell_type": "markdown",
   "id": "4503d333-7e2d-40ab-b26f-f3773b05a05f",
   "metadata": {},
   "source": [
    "#### Import resources"
   ]
  },
  {
   "cell_type": "code",
   "execution_count": 1,
   "id": "4a3df689-5074-44f4-aa5d-9d1aa2aa4649",
   "metadata": {},
   "outputs": [],
   "source": [
    "import matplotlib.pyplot as plt\n",
    "import matplotlib.image as mpimg \n",
    "\n",
    "import numpy as np\n",
    "import cv2\n",
    "\n",
    "%matplotlib inline"
   ]
  },
  {
   "cell_type": "markdown",
   "id": "166a90d9-96fa-4c6e-9fe4-e1c1c3a22c05",
   "metadata": {},
   "source": [
    "#### Read in and display the image"
   ]
  },
  {
   "cell_type": "code",
   "execution_count": 6,
   "id": "a847a6af-edd7-494a-8f1c-68159efc4b91",
   "metadata": {},
   "outputs": [
    {
     "ename": "TypeError",
     "evalue": "'module' object is not callable",
     "output_type": "error",
     "traceback": [
      "\u001b[0;31m---------------------------------------------------------------------------\u001b[0m",
      "\u001b[0;31mTypeError\u001b[0m                                 Traceback (most recent call last)",
      "Cell \u001b[0;32mIn[6], line 1\u001b[0m\n\u001b[0;32m----> 1\u001b[0m image \u001b[38;5;241m=\u001b[39m \u001b[43mmpimg\u001b[49m\u001b[43m(\u001b[49m\u001b[38;5;124;43m'\u001b[39;49m\u001b[38;5;124;43mimages/car_green_screen.jpg\u001b[39;49m\u001b[38;5;124;43m'\u001b[39;49m\u001b[43m)\u001b[49m \u001b[38;5;66;03m# Reading the image\u001b[39;00m\n\u001b[1;32m      3\u001b[0m \u001b[38;5;28mprint\u001b[39m(\u001b[38;5;124m\"\u001b[39m\u001b[38;5;124mImage Dimension is :\u001b[39m\u001b[38;5;124m\"\u001b[39m, image\u001b[38;5;241m.\u001b[39mshape)\n",
      "\u001b[0;31mTypeError\u001b[0m: 'module' object is not callable"
     ]
    }
   ],
   "source": [
    "image = mpimg('images/car_green_screen.jpg') # Reading the image\n",
    "\n",
    "print(\"Image Dimension is :\", image.shape) # # Print out the image dimensions (height, width, and depth (color))\n",
    "\n"
   ]
  },
  {
   "cell_type": "code",
   "execution_count": null,
   "id": "e2c5e2c5-b257-4fa7-90b1-dab45fa5821f",
   "metadata": {},
   "outputs": [],
   "source": []
  }
 ],
 "metadata": {
  "kernelspec": {
   "display_name": "Python 3 (ipykernel)",
   "language": "python",
   "name": "python3"
  },
  "language_info": {
   "codemirror_mode": {
    "name": "ipython",
    "version": 3
   },
   "file_extension": ".py",
   "mimetype": "text/x-python",
   "name": "python",
   "nbconvert_exporter": "python",
   "pygments_lexer": "ipython3",
   "version": "3.8.18"
  }
 },
 "nbformat": 4,
 "nbformat_minor": 5
}
