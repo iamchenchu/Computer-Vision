{
 "cells": [
  {
   "cell_type": "markdown",
   "id": "0c6b19b1-e2a4-485c-b3c4-dd69aff0fe5f",
   "metadata": {},
   "source": [
    "# Lesson outline\n",
    "\n",
    "In this lesson, you will learn about some advanced CNN architectures. Here is the lesson outline\n",
    "\n",
    "* Classification and localization\n",
    "* Bounding boxes and regression\n",
    "* Regional proposal\n",
    "* Regional CNN\n",
    "* Fast R-CNN\n",
    "* Faster R-CNN\n",
    "* Detection with and without proposals"
   ]
  },
  {
   "cell_type": "code",
   "execution_count": null,
   "id": "3697221b-501f-493e-94f8-d9123a77931b",
   "metadata": {},
   "outputs": [],
   "source": []
  }
 ],
 "metadata": {
  "kernelspec": {
   "display_name": "Python 3 (ipykernel)",
   "language": "python",
   "name": "python3"
  },
  "language_info": {
   "codemirror_mode": {
    "name": "ipython",
    "version": 3
   },
   "file_extension": ".py",
   "mimetype": "text/x-python",
   "name": "python",
   "nbconvert_exporter": "python",
   "pygments_lexer": "ipython3",
   "version": "3.8.18"
  }
 },
 "nbformat": 4,
 "nbformat_minor": 5
}
