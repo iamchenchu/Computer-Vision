{
 "cells": [
  {
   "cell_type": "markdown",
   "id": "eb6e0da6-fe23-4e4d-8458-cf8e5f304bcf",
   "metadata": {},
   "source": [
    "## Long Short-Term Memory Networks(LSTMs)\n",
    "\n",
    "### Lesson outline\n",
    "In this lesson, we will learn about LSTM (Long short-term memory networks). We will discuss the following topics:\n",
    "\n",
    "- RNN vs LSTM\n",
    "- Basics of LSTM\n",
    "- Architecture of LSTM\n",
    "- The learn gate\n",
    "- The forget gate\n",
    "- The remember gate\n",
    "- The use gate\n",
    "- Character-level RNN\n",
    "- Sequence batching\n",
    "- Other architectures\n",
    "\n"
   ]
  },
  {
   "cell_type": "code",
   "execution_count": null,
   "id": "07597227-e3f3-4c03-a4d7-537d66dcadb0",
   "metadata": {},
   "outputs": [],
   "source": []
  }
 ],
 "metadata": {
  "kernelspec": {
   "display_name": "Python 3 (ipykernel)",
   "language": "python",
   "name": "python3"
  },
  "language_info": {
   "codemirror_mode": {
    "name": "ipython",
    "version": 3
   },
   "file_extension": ".py",
   "mimetype": "text/x-python",
   "name": "python",
   "nbconvert_exporter": "python",
   "pygments_lexer": "ipython3",
   "version": "3.8.18"
  }
 },
 "nbformat": 4,
 "nbformat_minor": 5
}
