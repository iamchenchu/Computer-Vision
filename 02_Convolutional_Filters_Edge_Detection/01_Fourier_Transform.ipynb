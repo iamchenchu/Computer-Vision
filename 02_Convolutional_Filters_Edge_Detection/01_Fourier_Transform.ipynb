{
 "cells": [
  {
   "cell_type": "markdown",
   "id": "1447ee0a-8692-45f3-b28b-e9852689314a",
   "metadata": {},
   "source": [
    "### Fourier Transforms"
   ]
  },
  {
   "cell_type": "code",
   "execution_count": null,
   "id": "ba1bd32b-c06a-4095-9958-da2275986e38",
   "metadata": {},
   "outputs": [],
   "source": []
  }
 ],
 "metadata": {
  "kernelspec": {
   "display_name": "Python 3 (ipykernel)",
   "language": "python",
   "name": "python3"
  },
  "language_info": {
   "codemirror_mode": {
    "name": "ipython",
    "version": 3
   },
   "file_extension": ".py",
   "mimetype": "text/x-python",
   "name": "python",
   "nbconvert_exporter": "python",
   "pygments_lexer": "ipython3",
   "version": "3.11.5"
  }
 },
 "nbformat": 4,
 "nbformat_minor": 5
}
