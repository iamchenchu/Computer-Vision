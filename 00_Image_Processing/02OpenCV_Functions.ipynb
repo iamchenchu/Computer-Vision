{
 "cells": [
  {
   "cell_type": "markdown",
   "id": "6b61d367-c439-42fe-a0f9-f392d0a63658",
   "metadata": {},
   "source": [
    "import cv2 # OpenCV use as cv2 in python"
   ]
  },
  {
   "cell_type": "code",
   "execution_count": 7,
   "id": "b2d56c19-e520-4129-899d-990d587d4614",
   "metadata": {},
   "outputs": [
    {
     "name": "stdout",
     "output_type": "stream",
     "text": [
      "[[[255 255 255]\n",
      "  [255 255 255]\n",
      "  [255 255 255]\n",
      "  ...\n",
      "  [141  94  40]\n",
      "  [142  95  41]\n",
      "  [142  95  41]]\n",
      "\n",
      " [[255 255 255]\n",
      "  [255 255 255]\n",
      "  [255 255 255]\n",
      "  ...\n",
      "  [144  97  43]\n",
      "  [145  98  44]\n",
      "  [145  98  44]]\n",
      "\n",
      " [[255 255 255]\n",
      "  [255 255 255]\n",
      "  [255 255 255]\n",
      "  ...\n",
      "  [141  95  41]\n",
      "  [142  96  42]\n",
      "  [142  96  42]]\n",
      "\n",
      " ...\n",
      "\n",
      " [[228 229 230]\n",
      "  [230 232 233]\n",
      "  [230 232 233]\n",
      "  ...\n",
      "  [167 120  58]\n",
      "  [166 119  57]\n",
      "  [168 121  59]]\n",
      "\n",
      " [[226 228 228]\n",
      "  [229 231 231]\n",
      "  [228 230 230]\n",
      "  ...\n",
      "  [167 120  58]\n",
      "  [167 120  58]\n",
      "  [168 121  59]]\n",
      "\n",
      " [[225 227 227]\n",
      "  [228 230 230]\n",
      "  [226 228 228]\n",
      "  ...\n",
      "  [168 121  58]\n",
      "  [166 119  57]\n",
      "  [166 120  57]]]\n",
      "All windows freed\n"
     ]
    }
   ],
   "source": [
    "# this is to show the colorful image\n",
    "\n",
    "import cv2\n",
    "\n",
    "img1 = cv2.imread(\"/Users/mekalathuruchenchaiah/Desktop/PROGRAMMING/Computer Vision/00_Image_Processing/images/sky.jpg\", 1) # After the path if we keep 1 then it would be colored image, if we keep 0 then it would be gray scale image\n",
    "img1 = cv2.resize(img1, (600, 600)) # width and height\n",
    "print(img1)\n",
    "cv2.imshow(\"Original\", img1)\n",
    "cv2.waitKey(10000) # 10 seconds it will hold the image \n",
    "cv2.destroyAllWindows() # it will free all the windows \n",
    "print(\"All windows freed\")"
   ]
  },
  {
   "cell_type": "code",
   "execution_count": 8,
   "id": "e54a193a-7047-42da-b469-65a9167019d5",
   "metadata": {},
   "outputs": [
    {
     "name": "stdout",
     "output_type": "stream",
     "text": [
      "The array values of grayscale image [[255 255 255 ...  84  84  84]\n",
      " [255 255 255 ...  86  87  87]\n",
      " [255 255 255 ...  85  85  85]\n",
      " ...\n",
      " [229 231 232 ... 106 107 109]\n",
      " [227 230 230 ... 107 108 109]\n",
      " [226 230 229 ... 106 106 107]]\n",
      "Memory Freed\n"
     ]
    }
   ],
   "source": [
    "# Gray Scale image\n",
    "\n",
    "import cv2\n",
    "\n",
    "img2 = cv2.imread(\"/Users/mekalathuruchenchaiah/Desktop/PROGRAMMING/Computer Vision/00_Image_Processing/images/sky.jpg\", 0)  # 0 means gray scale image\n",
    "img2 = cv2.resize(img2, (900, 600))\n",
    "print(\"The array values of grayscale image\", img2)\n",
    "cv2.imshow(\"Gray Scale Image\", img2)\n",
    "cv2.waitKey(5000)        # 5000 milli seconds\n",
    "cv2.destroyAllWindows() # frees the memory \n",
    "print(\"Memory Freed\")"
   ]
  },
  {
   "cell_type": "code",
   "execution_count": 9,
   "id": "939f7c08-91a5-4da6-ad70-6aade8d76113",
   "metadata": {},
   "outputs": [
    {
     "name": "stdout",
     "output_type": "stream",
     "text": [
      "The image values of array is : [[[255 255 255]\n",
      "  [255 255 255]\n",
      "  [255 255 255]\n",
      "  ...\n",
      "  [142  95  41]\n",
      "  [142  95  41]\n",
      "  [142  95  41]]\n",
      "\n",
      " [[255 255 255]\n",
      "  [255 255 255]\n",
      "  [255 255 255]\n",
      "  ...\n",
      "  [145  98  44]\n",
      "  [145  98  44]\n",
      "  [145  98  44]]\n",
      "\n",
      " [[255 255 255]\n",
      "  [255 255 255]\n",
      "  [255 255 255]\n",
      "  ...\n",
      "  [142  96  42]\n",
      "  [142  96  42]\n",
      "  [142  96  42]]\n",
      "\n",
      " ...\n",
      "\n",
      " [[227 229 230]\n",
      "  [229 231 232]\n",
      "  [230 232 233]\n",
      "  ...\n",
      "  [166 119  57]\n",
      "  [167 120  58]\n",
      "  [169 122  60]]\n",
      "\n",
      " [[225 227 227]\n",
      "  [228 230 230]\n",
      "  [229 231 231]\n",
      "  ...\n",
      "  [167 120  58]\n",
      "  [168 121  59]\n",
      "  [169 122  60]]\n",
      "\n",
      " [[224 226 226]\n",
      "  [228 230 230]\n",
      "  [228 230 230]\n",
      "  ...\n",
      "  [166 119  57]\n",
      "  [166 119  57]\n",
      "  [167 120  58]]]\n",
      "The memory is freed now\n"
     ]
    }
   ],
   "source": [
    "# Saturated colors \n",
    "\n",
    "import cv2\n",
    "\n",
    "img3 = cv2.imread(\"/Users/mekalathuruchenchaiah/Desktop/PROGRAMMING/Computer Vision/00_Image_Processing/images/sky.jpg\", -1) # -1 means the saturated image\n",
    "img3 = cv2.resize(img3, (1000, 600)) \n",
    "print(\"The image values of array is :\",img3)\n",
    "cv2.imshow(\"The Saturated Image\", img3)\n",
    "cv2.waitKey(5000)        #5000 milli seconds\n",
    "cv2.destroyAllWindows()\n",
    "print(\"The memory is freed now\")\n"
   ]
  },
  {
   "cell_type": "code",
   "execution_count": null,
   "id": "3c12ea23-7f09-4ee3-8745-c5893759357b",
   "metadata": {},
   "outputs": [],
   "source": []
  }
 ],
 "metadata": {
  "kernelspec": {
   "display_name": "Python 3 (ipykernel)",
   "language": "python",
   "name": "python3"
  },
  "language_info": {
   "codemirror_mode": {
    "name": "ipython",
    "version": 3
   },
   "file_extension": ".py",
   "mimetype": "text/x-python",
   "name": "python",
   "nbconvert_exporter": "python",
   "pygments_lexer": "ipython3",
   "version": "3.8.18"
  }
 },
 "nbformat": 4,
 "nbformat_minor": 5
}
