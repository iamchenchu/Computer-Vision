{
 "cells": [
  {
   "cell_type": "markdown",
   "id": "16be461d-3a93-4bb6-8e4e-4cb6fad02470",
   "metadata": {},
   "source": [
    "### We will learn how to access the video and do some operations with it"
   ]
  },
  {
   "cell_type": "code",
   "execution_count": 2,
   "id": "0ecbf5ff-2c4d-42e4-9130-a329f9ebd720",
   "metadata": {},
   "outputs": [],
   "source": [
    "#### Video is collection of images as we have studied earlier, the images are called frames"
   ]
  },
  {
   "cell_type": "code",
   "execution_count": 14,
   "id": "3fdeed12-816f-40f6-b831-e293e27e4c8a",
   "metadata": {},
   "outputs": [
    {
     "name": "stdout",
     "output_type": "stream",
     "text": [
      "CAP :  < cv2.VideoCapture 0x16054b030>\n"
     ]
    }
   ],
   "source": [
    "import cv2\n",
    "\n",
    "cap = cv2.VideoCapture(\"/Users/mekalathuruchenchaiah/Desktop/PROGRAMMING/Computer Vision/00_Image_Processing/images/test2.mp4\")\n",
    "print(\"CAP : \", cap) # Prints the object location\n",
    "while True:\n",
    "    ret, frame = cap.read()\n",
    "    frame = cv2.resize(frame, (700,450))\n",
    "    gray = cv2.cvtColor(frame, cv2.COLOR_BGR2GRAY) # Creating the gray frames \n",
    "    cv2.imshow(\"frame\", frame)\n",
    "    cv2.imshow(\"gray\", gray)\n",
    "    k = cv2.waitKey(25) # this number decides the speed of the video, the bigger the value then the slow the video\n",
    "    if k == ord(\"q\") & 0xFF:\n",
    "        break\n",
    "cap.release()\n",
    "cv2.destroyAllWindows()"
   ]
  },
  {
   "cell_type": "markdown",
   "id": "370bb9e6-299f-44a4-b135-af5c6bc3004a",
   "metadata": {},
   "source": [
    "### Capture the video and save in the laptop"
   ]
  },
  {
   "cell_type": "code",
   "execution_count": 16,
   "id": "460d0bc1-a8d3-4ccd-8050-c0159a1f9b1f",
   "metadata": {},
   "outputs": [
    {
     "name": "stdout",
     "output_type": "stream",
     "text": [
      "< cv2.VideoCapture 0x16054b270>\n"
     ]
    }
   ],
   "source": [
    "cap = cv2.VideoCapture(0, cv2.CAP_DSHOW) # 0 means built in webcam, 1 means external webcam, CAP_DSHOW ignores the warnings\n",
    "print(cap)\n",
    "\n",
    "#DIVX, XVID, MJPG, X264, WMV1, WMV2\n",
    "fourcc = cv2.VideoWriter_fourcc(*\"XVID\") # *\"XVID\" is the codec\n",
    "\n",
    "# It contains four parameters name, codec, fps, resolution (extra incase of grascale : we should give 0 as extra parameter)\n",
    "output = cv2.VideoWriter(\"/Users/mekalathuruchenchaiah/Desktop/PROGRAMMING/Computer Vision/00_Image_Processing/images/output.avi\", fourcc, 20.0, (640, 480))\n",
    "# output = cv2.VideoWriter(\"/Users/mekalathuruchenchaiah/Desktop/PROGRAMMING/Computer Vision/00_Image_Processing/images/output.avi\", fourcc, 20.0, (640, 480), 0)\n",
    "\n",
    "while cap.isOpened(): # the time until the camera is opened\n",
    "    ret, frame = cap.read()\n",
    "    if ret == True: # until the ret bool value is true means the frame is available\n",
    "        gray = cv2.cvtColor(frame, cv2.COLOR_BGR2GRAY)\n",
    "        cv2.imshow('frame', frame)\n",
    "        cv2.imshow('gray', gray)\n",
    "        output.write(frame)\n",
    "        if cv2.waitKey(1) & 0xFF == ord('q'): #Press to exit\n",
    "            break\n",
    "cap.release()\n",
    "output.release()\n",
    "cv2.destroyAllWindows()"
   ]
  },
  {
   "cell_type": "code",
   "execution_count": 17,
   "id": "f241c67c-3a92-431d-9ee3-8f2c25c4dc00",
   "metadata": {},
   "outputs": [
    {
     "name": "stdout",
     "output_type": "stream",
     "text": [
      "< cv2.VideoCapture 0x16054ad70>\n"
     ]
    }
   ],
   "source": [
    "import cv2\n",
    "\n",
    "cap = cv2.VideoCapture(0, cv2.CAP_DSHOW)\n",
    "print(cap)\n",
    "\n",
    "fourcc = cv2.VideoWriter_fourcc(*\"XVID\")\n",
    "\n",
    "output_color = cv2.VideoWriter(\"output_color.avi\", fourcc, 20.0, (640, 480))\n",
    "output_gray = cv2.VideoWriter(\"output_gray.avi\", fourcc, 20.0, (640, 480), 0)\n",
    "\n",
    "while cap.isOpened():\n",
    "    ret, frame = cap.read()\n",
    "    if ret:\n",
    "        gray = cv2.cvtColor(frame, cv2.COLOR_BGR2GRAY)\n",
    "        cv2.imshow('frame', frame)\n",
    "        cv2.imshow('gray', gray)\n",
    "        output_color.write(frame)\n",
    "        output_gray.write(gray)  # Save the grayscale video\n",
    "        if cv2.waitKey(1) & 0xFF == ord('q'):\n",
    "            break\n",
    "\n",
    "cap.release()\n",
    "output_color.release()\n",
    "output_gray.release()\n",
    "cv2.destroyAllWindows()"
   ]
  },
  {
   "cell_type": "code",
   "execution_count": null,
   "id": "9f8d42f4-e6b5-49fc-b2b4-4839f5841674",
   "metadata": {},
   "outputs": [],
   "source": []
  }
 ],
 "metadata": {
  "kernelspec": {
   "display_name": "Python 3 (ipykernel)",
   "language": "python",
   "name": "python3"
  },
  "language_info": {
   "codemirror_mode": {
    "name": "ipython",
    "version": 3
   },
   "file_extension": ".py",
   "mimetype": "text/x-python",
   "name": "python",
   "nbconvert_exporter": "python",
   "pygments_lexer": "ipython3",
   "version": "3.11.8"
  }
 },
 "nbformat": 4,
 "nbformat_minor": 5
}
