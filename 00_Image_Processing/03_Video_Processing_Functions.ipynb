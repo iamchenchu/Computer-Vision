{
 "cells": [
  {
   "cell_type": "markdown",
   "id": "16be461d-3a93-4bb6-8e4e-4cb6fad02470",
   "metadata": {},
   "source": [
    "### We will learn how to access the video and do some operations with it"
   ]
  },
  {
   "cell_type": "code",
   "execution_count": null,
   "id": "0ecbf5ff-2c4d-42e4-9130-a329f9ebd720",
   "metadata": {},
   "outputs": [],
   "source": [
    "#### Video is collection of images as we have studied earlier, the images are called frames"
   ]
  },
  {
   "cell_type": "code",
   "execution_count": 1,
   "id": "3fdeed12-816f-40f6-b831-e293e27e4c8a",
   "metadata": {},
   "outputs": [
    {
     "name": "stdout",
     "output_type": "stream",
     "text": [
      "CAP :  < cv2.VideoCapture 0x1038c4b30>\n"
     ]
    }
   ],
   "source": [
    "import cv2\n",
    "\n",
    "cap = cv2.VideoCapture(\"/Users/mekalathuruchenchaiah/Desktop/PROGRAMMING/Computer Vision/00_Image_Processing/images/test2.mp4\")\n",
    "print(\"CAP : \", cap) # Prints the object location"
   ]
  },
  {
   "cell_type": "code",
   "execution_count": null,
   "id": "c2fe8ad3-1efe-4178-bfb4-ec9dddbd0da4",
   "metadata": {},
   "outputs": [],
   "source": []
  }
 ],
 "metadata": {
  "kernelspec": {
   "display_name": "Python 3 (ipykernel)",
   "language": "python",
   "name": "python3"
  },
  "language_info": {
   "codemirror_mode": {
    "name": "ipython",
    "version": 3
   },
   "file_extension": ".py",
   "mimetype": "text/x-python",
   "name": "python",
   "nbconvert_exporter": "python",
   "pygments_lexer": "ipython3",
   "version": "3.11.8"
  }
 },
 "nbformat": 4,
 "nbformat_minor": 5
}
