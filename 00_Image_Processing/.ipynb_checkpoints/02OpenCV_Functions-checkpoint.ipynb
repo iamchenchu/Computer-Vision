{
 "cells": [
  {
   "cell_type": "markdown",
   "id": "6b61d367-c439-42fe-a0f9-f392d0a63658",
   "metadata": {},
   "source": [
    "import cv2 # OpenCV use as cv2 in python"
   ]
  },
  {
   "cell_type": "code",
   "execution_count": null,
   "id": "b2d56c19-e520-4129-899d-990d587d4614",
   "metadata": {},
   "outputs": [],
   "source": [
    "# this is to show the colorful image\n",
    "\n",
    "import cv2\n",
    "\n",
    "img1 = cv2.imread(\"/Users/mekalathuruchenchaiah/Desktop/PROGRAMMING/Computer Vision/00_Image_Processing/images/sky.jpg\") # After the path if we keep 1 then it would be colored image, if we keep 0 then it would be gray scale image\n",
    "img1 = cv2.resize(img1, (600, 600)) # width and height\n",
    "print(img1)\n",
    "cv2.imshow(\"Original\", img1)\n",
    "cv2.waitKey(10000) # 10 seconds it will hold the image \n",
    "cv2.destroyAllWindow() # it will free all the windows "
   ]
  },
  {
   "cell_type": "code",
   "execution_count": null,
   "id": "e54a193a-7047-42da-b469-65a9167019d5",
   "metadata": {},
   "outputs": [],
   "source": []
  },
  {
   "cell_type": "code",
   "execution_count": null,
   "id": "939f7c08-91a5-4da6-ad70-6aade8d76113",
   "metadata": {},
   "outputs": [],
   "source": []
  }
 ],
 "metadata": {
  "kernelspec": {
   "display_name": "Python 3 (ipykernel)",
   "language": "python",
   "name": "python3"
  },
  "language_info": {
   "codemirror_mode": {
    "name": "ipython",
    "version": 3
   },
   "file_extension": ".py",
   "mimetype": "text/x-python",
   "name": "python",
   "nbconvert_exporter": "python",
   "pygments_lexer": "ipython3",
   "version": "3.8.18"
  }
 },
 "nbformat": 4,
 "nbformat_minor": 5
}
