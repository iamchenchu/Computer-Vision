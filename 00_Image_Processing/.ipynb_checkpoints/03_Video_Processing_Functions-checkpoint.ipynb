{
 "cells": [
  {
   "cell_type": "markdown",
   "id": "16be461d-3a93-4bb6-8e4e-4cb6fad02470",
   "metadata": {},
   "source": [
    "### We will learn how to access the video and do some operations with it"
   ]
  },
  {
   "cell_type": "code",
   "execution_count": 2,
   "id": "0ecbf5ff-2c4d-42e4-9130-a329f9ebd720",
   "metadata": {},
   "outputs": [],
   "source": [
    "#### Video is collection of images as we have studied earlier, the images are called frames"
   ]
  },
  {
   "cell_type": "code",
   "execution_count": 11,
   "id": "3fdeed12-816f-40f6-b831-e293e27e4c8a",
   "metadata": {},
   "outputs": [
    {
     "name": "stdout",
     "output_type": "stream",
     "text": [
      "CAP :  < cv2.VideoCapture 0x16054b2b0>\n"
     ]
    },
    {
     "ename": "error",
     "evalue": "OpenCV(4.9.0) /Users/xperience/GHA-OpenCV-Python2/_work/opencv-python/opencv-python/opencv/modules/imgproc/src/resize.cpp:4152: error: (-215:Assertion failed) !ssize.empty() in function 'resize'\n",
     "output_type": "error",
     "traceback": [
      "\u001b[0;31m---------------------------------------------------------------------------\u001b[0m",
      "\u001b[0;31merror\u001b[0m                                     Traceback (most recent call last)",
      "Cell \u001b[0;32mIn[11], line 7\u001b[0m\n\u001b[1;32m      5\u001b[0m \u001b[38;5;28;01mwhile\u001b[39;00m \u001b[38;5;28;01mTrue\u001b[39;00m:\n\u001b[1;32m      6\u001b[0m     ret, frame \u001b[38;5;241m=\u001b[39m cap\u001b[38;5;241m.\u001b[39mread()\n\u001b[0;32m----> 7\u001b[0m     frame \u001b[38;5;241m=\u001b[39m \u001b[43mcv2\u001b[49m\u001b[38;5;241;43m.\u001b[39;49m\u001b[43mresize\u001b[49m\u001b[43m(\u001b[49m\u001b[43mframe\u001b[49m\u001b[43m,\u001b[49m\u001b[43m \u001b[49m\u001b[43m(\u001b[49m\u001b[38;5;241;43m700\u001b[39;49m\u001b[43m,\u001b[49m\u001b[38;5;241;43m450\u001b[39;49m\u001b[43m)\u001b[49m\u001b[43m)\u001b[49m\n\u001b[1;32m      8\u001b[0m     gray \u001b[38;5;241m=\u001b[39m cv2\u001b[38;5;241m.\u001b[39mcvtColor(frame, cv2\u001b[38;5;241m.\u001b[39mCOLOR_BGR2GRAY) \u001b[38;5;66;03m# Creating the gray frames \u001b[39;00m\n\u001b[1;32m      9\u001b[0m     cv2\u001b[38;5;241m.\u001b[39mimshow(\u001b[38;5;124m\"\u001b[39m\u001b[38;5;124mframe\u001b[39m\u001b[38;5;124m\"\u001b[39m, frame)\n",
      "\u001b[0;31merror\u001b[0m: OpenCV(4.9.0) /Users/xperience/GHA-OpenCV-Python2/_work/opencv-python/opencv-python/opencv/modules/imgproc/src/resize.cpp:4152: error: (-215:Assertion failed) !ssize.empty() in function 'resize'\n"
     ]
    }
   ],
   "source": [
    "import cv2\n",
    "\n",
    "cap = cv2.VideoCapture(\"/Users/mekalathuruchenchaiah/Desktop/PROGRAMMING/Computer Vision/00_Image_Processing/images/test2.mp4\")\n",
    "print(\"CAP : \", cap) # Prints the object location\n",
    "while True:\n",
    "    ret, frame = cap.read()\n",
    "    frame = cv2.resize(frame, (700,450))\n",
    "    gray = cv2.cvtColor(frame, cv2.COLOR_BGR2GRAY) # Creating the gray frames \n",
    "    cv2.imshow(\"frame\", frame)\n",
    "    cv2.imshow(\"gray\", gray)\n",
    "    k = cv2.waitKey(25) # this number decides the speed of the video, the bigger the value then the slow the video\n",
    "    if k == ord(\"q\") & 0xFF:\n",
    "        break\n",
    "cap.release()\n",
    "cv2.destroyAllWindows()"
   ]
  },
  {
   "cell_type": "markdown",
   "id": "370bb9e6-299f-44a4-b135-af5c6bc3004a",
   "metadata": {},
   "source": [
    "### Capture the video and save in the laptop"
   ]
  },
  {
   "cell_type": "code",
   "execution_count": null,
   "id": "460d0bc1-a8d3-4ccd-8050-c0159a1f9b1f",
   "metadata": {},
   "outputs": [],
   "source": [
    "cap = cv2.VideoCapture(0, cv2.CAP_DSHOW) # 0 means built in webcam, 1 means external webcam, CAP_DSHOW ignores the warnings\n",
    "print(cap)\n",
    "\n",
    "#DIVX, XVID, MJPG, X264, WMV1, WMV2\n",
    "fourcc = cv2.VideoWriter_fourcc(*\"XVID\") # *\"XVID\" is the codec\n",
    "\n",
    "# It contains four parameters name, codec, fps, resolution (extra incase of grascale : we should give 0 as extra parameter)\n",
    "output = cv2.VideoWriter(\"output.avi\", fourcc, 20.0, (640, 480))\n",
    "# output = cv2.VideoWriter(\"/Users/mekalathuruchenchaiah/Desktop/PROGRAMMING/Computer Vision/00_Image_Processing/images/output.avi\", fourcc, 20.0, (640, 480), 0)\n",
    "\n",
    "while cap.isOpened(): # the time until the camera is opened\n",
    "    ret, frame = cap.read()\n",
    "    if ret == True: # until the ret bool value is true means the frame is available\n",
    "        gray = cv2.cvtColor(frame, cv2.COLOR_BGR2GRAY)\n",
    "        cv2.imshow('frame', frame)\n",
    "        cv2.imshow('gray', gray)\n",
    "        output.write(frame)\n",
    "        if cv2.waitKey(1) & 0xFF == ord('q'): #Press to exit\n",
    "            break\n",
    "cap.release()\n",
    "output.release()\n",
    "cv2.destroyAllWindows()"
   ]
  }
 ],
 "metadata": {
  "kernelspec": {
   "display_name": "Python 3 (ipykernel)",
   "language": "python",
   "name": "python3"
  },
  "language_info": {
   "codemirror_mode": {
    "name": "ipython",
    "version": 3
   },
   "file_extension": ".py",
   "mimetype": "text/x-python",
   "name": "python",
   "nbconvert_exporter": "python",
   "pygments_lexer": "ipython3",
   "version": "3.11.8"
  }
 },
 "nbformat": 4,
 "nbformat_minor": 5
}
