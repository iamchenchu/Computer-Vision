{
 "cells": [
  {
   "cell_type": "markdown",
   "id": "981a109e-1c84-4248-8f94-832e0cf277e0",
   "metadata": {},
   "source": [
    "#### Image Processing\n",
    "\n",
    "**Image is a collection of Pixels**\n",
    "\n",
    "1. Pixel is a smallest unit in an image which contains color value \n",
    "2. PPI (Pixel Per Inch) [Min 300 Pixels required per inch]\n",
    "3. Video is the collection of images\n",
    "\n",
    "\n",
    "Image Processing : is a method to perform some operations on an image, in order to get an enhanced image or to extract some useful information about it."
   ]
  },
  {
   "cell_type": "markdown",
   "id": "12433000-6088-4820-b456-94aa19b59702",
   "metadata": {},
   "source": [
    "#### COMPUTER VISION\n",
    "    -> Computer vision is a subpart of a artificial intelligence\n",
    "    -> "
   ]
  },
  {
   "cell_type": "code",
   "execution_count": null,
   "id": "0ef299ab-86cf-48f0-a5c5-30a444786d21",
   "metadata": {},
   "outputs": [],
   "source": []
  }
 ],
 "metadata": {
  "kernelspec": {
   "display_name": "Python 3 (ipykernel)",
   "language": "python",
   "name": "python3"
  },
  "language_info": {
   "codemirror_mode": {
    "name": "ipython",
    "version": 3
   },
   "file_extension": ".py",
   "mimetype": "text/x-python",
   "name": "python",
   "nbconvert_exporter": "python",
   "pygments_lexer": "ipython3",
   "version": "3.11.5"
  }
 },
 "nbformat": 4,
 "nbformat_minor": 5
}
