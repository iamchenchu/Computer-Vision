{
 "cells": [
  {
   "cell_type": "markdown",
   "id": "981a109e-1c84-4248-8f94-832e0cf277e0",
   "metadata": {},
   "source": [
    "#### Image Processing\n",
    "\n",
    "**Image is a collection of Pixels**\n",
    "\n",
    "1. Pixel is a smallest unit in an image which contains color value \n",
    "2. PPI (Pixel Per Inch) [Min 300 Pixels required per inch]\n",
    "3. Video is the collection of images\n",
    "\n",
    "\n",
    "Image Processing : is a method to perform some operations on an image, in order to get an enhanced image or to extract some useful information about it."
   ]
  },
  {
   "cell_type": "markdown",
   "id": "12433000-6088-4820-b456-94aa19b59702",
   "metadata": {},
   "source": [
    "#### COMPUTER VISION\n",
    "    -> Computer vision is a sub part of a artificial intelligence that deals with the how computers can gain high level understanding from digital images or videos.\n",
    "    -> From the perspective of engineering, it seeks to understand and automate tasks that the human visual system can do\n",
    "    -> Examples \n",
    "        * Facial Recognition Software\n",
    "        * Self-drivig cars\n",
    "        * Manufactoring production line\n",
    "        * Widely it is being used in all the tasks where camara is being used to moniter the activities or defects etc"
   ]
  },
  {
   "cell_type": "markdown",
   "id": "3de8f4db-3416-4f62-9212-0d015c9e0355",
   "metadata": {},
   "source": [
    "    -> It is an open source library for the implementation of Image Processing and Computer Vision\n",
    "    -> Open CV is an image processing library developed by the intel and later supported by willoa garage and now maintained by itseez. \n",
    "    -> Open Cv is available on Mac, Windows, Linux and works in C, C++ and Python \n",
    "    -> It supports cross platform intigration and it is flexible it is open source and free.\n",
    "    -> OpenCV is easy to install and use\n",
    "    \n",
    "#### Image Storage : \n",
    "    -> Image stores the values of pixel and it stores in the form of matrics\n",
    "    -> It this matrics handled by numpy and this matrics will be in the form of 2D matrics\n",
    "    -> There are 2 types of Images \n",
    "        * Gray Style Images : will have single channel which says how much bright and dark \n",
    "        * Colored Images : will have 3 channels of RGB which will be the combination of 3 values"
   ]
  },
  {
   "cell_type": "code",
   "execution_count": null,
   "id": "224449d9-51fc-4713-b15a-ff75bbbc4172",
   "metadata": {},
   "outputs": [],
   "source": [
    "import cv2 # OpenCV use as cv2 in python\n",
    "\n",
    "img1 = cv2.imread('images/car_green_screen.jpg')\n",
    "img1 = cv2.resize(img1,(600, 600))\n",
    "print(img1)\n",
    "cv2.imshow(\"Original\",img1)\n",
    "cv2.waitKey()\n",
    "cv2.destroyAllWindows()"
   ]
  },
  {
   "cell_type": "markdown",
   "id": "ca34ef33-3559-4173-b91f-bfd5fa510bf1",
   "metadata": {},
   "source": []
  }
 ],
 "metadata": {
  "kernelspec": {
   "display_name": "Python 3 (ipykernel)",
   "language": "python",
   "name": "python3"
  },
  "language_info": {
   "codemirror_mode": {
    "name": "ipython",
    "version": 3
   },
   "file_extension": ".py",
   "mimetype": "text/x-python",
   "name": "python",
   "nbconvert_exporter": "python",
   "pygments_lexer": "ipython3",
   "version": "3.8.18"
  }
 },
 "nbformat": 4,
 "nbformat_minor": 5
}
